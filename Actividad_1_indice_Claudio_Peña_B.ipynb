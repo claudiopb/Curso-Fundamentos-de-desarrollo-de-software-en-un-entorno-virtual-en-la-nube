{
  "nbformat": 4,
  "nbformat_minor": 0,
  "metadata": {
    "colab": {
      "provenance": [],
      "toc_visible": true,
      "authorship_tag": "ABX9TyNnhxqW7DBBpWWdA5oto6UR",
      "include_colab_link": true
    },
    "kernelspec": {
      "name": "python3",
      "display_name": "Python 3"
    },
    "language_info": {
      "name": "python"
    }
  },
  "cells": [
    {
      "cell_type": "markdown",
      "metadata": {
        "id": "view-in-github",
        "colab_type": "text"
      },
      "source": [
        "<a href=\"https://colab.research.google.com/github/claudiopb/Curso-Fundamentos-de-desarrollo-de-software-en-un-entorno-virtual-en-la-nube/blob/main/Actividad_1_indice_Claudio_Pe%C3%B1a_B.ipynb\" target=\"_parent\"><img src=\"https://colab.research.google.com/assets/colab-badge.svg\" alt=\"Open In Colab\"/></a>"
      ]
    },
    {
      "cell_type": "code",
      "execution_count": null,
      "metadata": {
        "id": "kQzQtDjQ7UvJ"
      },
      "outputs": [],
      "source": []
    },
    {
      "cell_type": "markdown",
      "source": [
        "#**Desarrolla software de sistemas informáticos**\n",
        "\n",
        "---\n",
        "\n"
      ],
      "metadata": {
        "id": "8TNyf-2Y7f4X"
      }
    },
    {
      "cell_type": "markdown",
      "source": [
        "##Submódulo 1 - Diseña software de sistemas informáticos"
      ],
      "metadata": {
        "id": "-ii6aQ8I8vl8"
      }
    },
    {
      "cell_type": "markdown",
      "source": [
        "###Elabora un anteproyecto para el diseño del software\n",
        "Recopila información del requerimiento del software,utilizando las tecnologías de la información y comunicación para procesar e interpretar los datos, atendiendo las instrucciones de su jefe inmediato, desarrollando su capacidad de abstracción y asumiendo una postura crítica.\n",
        "\n",
        "\n",
        "---\n",
        "Elabora diagramas de flujo de datos (entrada, proceso y salida) y estructuras de control (decisión, repetición, funciones y procedimientos), empleando habilidades de pensamiento lógico y matemático para proponer soluciones; utilizando una comunicación asertiva al exponer las ideas a su jefe inmediato.\n",
        "\n",
        "\n",
        "---\n",
        "Documenta la propuesta de software empleando las tecnologías de la información y comunicación, considerando las\n",
        "buenas prácticas en la redacción, sustentando sus argumentos con evidencias, trabajando de forma autónoma o colaborativa.\n",
        "\n",
        "\n"
      ],
      "metadata": {
        "id": "ZX84WdM3-Xxs"
      }
    },
    {
      "cell_type": "markdown",
      "source": [
        "###Construye el prototipo del software\n",
        "\n",
        "\n",
        "---\n",
        "Elabora representaciones estáticas del prototipo de software atendiendo los requerimientos establecidos en el anteproyecto para el diseño del sistema, trabajando de forma creativa, y autónoma o colaborativa.\n",
        "\n",
        "\n",
        "---\n",
        "Diseña interfaces gráficas del prototipo para verificar el aspecto del software y el flujo de datos, utilizando las tecnologías de información y comunicación, considerando elementos básicos de la teoría del diseño de pantallas, trabajando de forma creativa, y autónoma o colaborativa.\n",
        "\n",
        "\n",
        "---\n",
        "Presenta el prototipo del software a su jefe inmediato para verificar su funcionamiento, recopilando información para despliegue y utilizando una comunicación asertiva.\n"
      ],
      "metadata": {
        "id": "AnSHs2FPBIpi"
      }
    },
    {
      "cell_type": "markdown",
      "source": [
        "##Submódulo 2 - Codifica software de sistemas informáticos"
      ],
      "metadata": {
        "id": "-rshgg4j9vNb"
      }
    },
    {
      "cell_type": "markdown",
      "source": [
        "###Configura el entorno de programación\n",
        "\n",
        "\n",
        "---\n",
        "Instala el Entorno de Desarrollo Integrado o Entorno de Programación (IDE), considerando los requerimientos del sistema informático, revisando lasinstrucciones del manual técnico de instalación, empleando una comunicación asertiva, colaborando con el equipo de trabajo y atendiendo las instrucciones de su jefe inmediato.\n",
        "\n",
        "\n",
        "---\n",
        "Realiza pruebas de funcionamiento del IDE verificando su ejecución y compilación, identificando componentes y herramientas para agilizar el procesamiento de datos, atendiendo los requerimientos del software, trabajando de forma autónoma y asumiendo una postura crítica.\n"
      ],
      "metadata": {
        "id": "N7ZEBEDQH_a_"
      }
    },
    {
      "cell_type": "markdown",
      "source": [
        "###Desarrolla el sistema informático\n",
        "\n",
        "\n",
        "---\n",
        "Construye el código fuente del sistema de acuerdo con el prototipo, considerando la programación estructurada y la programación orientada a objetosimplementando procedimientos ágiles y parametrizables, empleando el pensamiento lógico y matemático, trabajando de forma autónoma o colaborativa.\n",
        "\n",
        "\n",
        "---\n",
        "Ejecuta pruebas locales del software en un ambiente de simulación para verificar su funcionamiento, considerando los\n",
        "requerimientos y el flujo de procesos, tomando en cuenta los estándares vigentes, haciendo los ajustes necesarios, empleando una actitud proactiva, trabajando de forma autónoma o colaborativa y utilizando una comunicación asertiva.\n",
        "\n",
        "\n",
        "---\n",
        "Documenta el código fuente del software en el IDE, siguiendo convenciones del lenguaje deprogramación, considerando las buenas prácticas de redacción, trabajando de forma autónoma o colaborativa, atendiendo las instrucciones de su jefe inmediato.\n"
      ],
      "metadata": {
        "id": "-esrwxXdH_Ad"
      }
    },
    {
      "cell_type": "markdown",
      "source": [
        "##Submódulo 3 - Implementa software de sistemas informáticos"
      ],
      "metadata": {
        "id": "bBr4Ludw952b"
      }
    },
    {
      "cell_type": "markdown",
      "source": [
        "###Ejecuta prueba de software en ambiente productivo\n",
        "\n",
        "\n",
        "---\n",
        "Configura el entorno productivo\n",
        "para ejecución del software de\n",
        "instalación, atendiendo las\n",
        "instrucciones de su jefe inmediato,\n",
        "empleando una comunicación\n",
        "asertiva y colaborando con el\n",
        "equipo de trabajo.\n",
        "\n",
        "\n",
        "---\n",
        "Verifica el funcionamiento del\n",
        "software en el ambiente de\n",
        "producción, considerando los\n",
        "requerimientos y el flujo de\n",
        "procesos, tomando en cuenta los\n",
        "estándares vigentes, haciendo los\n",
        "ajustes necesarios, adoptando una\n",
        "postura crítica, trabajando de forma autónoma o colaborativa y\n",
        "utilizando una comunicación\n",
        "asertiva.\n",
        "\n",
        "\n",
        "---\n",
        "Apoya en la documentación del\n",
        "software (manual técnico o de\n",
        "usuario) utilizando las tecnologías\n",
        "de la información y comunicación,\n",
        "atendiendo las instrucciones de su\n",
        "jefe inmediato, considerando las\n",
        "buenas prácticas en la redacción y\n",
        "trabajando en forma autónoma o\n",
        "colaborativa.\n",
        "\n",
        "\n"
      ],
      "metadata": {
        "id": "EziZuHQ3Kf7F"
      }
    },
    {
      "cell_type": "markdown",
      "source": [
        "###Realiza mantenimiento perfectivo a software\n",
        "\n",
        "\n",
        "---\n",
        "Realiza pruebas de integración\n",
        "para atender nuevos\n",
        "requerimientos o ajustes del\n",
        "software, asumiendo una actitud\n",
        "proactiva, trabajando de forma\n",
        "autónoma o colaborativa,\n",
        "siguiendo las instrucciones de su\n",
        "jefe inmediato.\n",
        "\n",
        "\n",
        "---\n",
        "Realiza pruebas de sistema para\n",
        "verificar el funcionamiento del\n",
        "software, considerando los\n",
        "requerimientos, asumiendo una\n",
        "actitud proactiva, trabajando de\n",
        "forma autónoma o colaborativa,\n",
        "atendiendo las instrucciones de su\n",
        "jefe inmediato.\n",
        "\n",
        "\n",
        "---\n",
        "Documenta el código fuente del\n",
        "software, empleando las\n",
        "tecnologías de la información y\n",
        "comunicación, siguiendo\n",
        "convenciones del lenguaje de\n",
        "programación, considerando las\n",
        "buenas prácticas de redacción y\n",
        "trabajando en forma autónoma o\n",
        "colaborativa."
      ],
      "metadata": {
        "id": "qKvmml-cKfyU"
      }
    },
    {
      "cell_type": "markdown",
      "source": [
        "**Elaborado por Claudio Peña Barragán. CBTis 191.**\n",
        "\n",
        "\n",
        "\n"
      ],
      "metadata": {
        "id": "mrfnLyn2Lo07"
      }
    }
  ]
}